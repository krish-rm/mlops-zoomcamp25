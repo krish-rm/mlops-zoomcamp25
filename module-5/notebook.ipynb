{
 "cells": [
  {
   "cell_type": "code",
   "execution_count": 1,
   "id": "1ce2302d",
   "metadata": {},
   "outputs": [
    {
     "name": "stdout",
     "output_type": "stream",
     "text": [
      "(57457, 20)\n"
     ]
    }
   ],
   "source": [
    "import pandas as pd\n",
    "\n",
    "df = pd.read_parquet('data/green_tripdata_2024-03.parquet')\n",
    "print(df.shape)\n"
   ]
  },
  {
   "cell_type": "code",
   "execution_count": 5,
   "id": "2ad2bc81",
   "metadata": {},
   "outputs": [
    {
     "data": {
      "text/plain": [
       "True"
      ]
     },
     "execution_count": 5,
     "metadata": {},
     "output_type": "execute_result"
    }
   ],
   "source": [
    "from evidently.report import Report\n",
    "from evidently.metrics import ColumnQuantileMetric, ColumnMissingValuesMetric\n",
    "import pandas as pd\n",
    "import webbrowser\n",
    "\n",
    "# Load March 2024 data\n",
    "df = pd.read_parquet(\"data/green_tripdata_2024-03.parquet\")\n",
    "\n",
    "# Create the report\n",
    "report = Report(metrics=[\n",
    "    ColumnQuantileMetric(column_name=\"fare_amount\", quantile=0.5),\n",
    "    ColumnMissingValuesMetric(column_name=\"passenger_count\")\n",
    "])\n",
    "\n",
    "# Run with same data for reference/current\n",
    "report.run(reference_data=df, current_data=df)\n",
    "\n",
    "# Save to HTML\n",
    "report.save_html(\"taxi_report_q2.html\")\n",
    "\n",
    "# Open the report\n",
    "webbrowser.open(\"taxi_report_q2.html\")\n"
   ]
  },
  {
   "cell_type": "code",
   "execution_count": 13,
   "id": "0e6bd1a2",
   "metadata": {},
   "outputs": [
    {
     "name": "stderr",
     "output_type": "stream",
     "text": [
      "100%|██████████| 31/31 [00:01<00:00, 29.17it/s]"
     ]
    },
    {
     "name": "stdout",
     "output_type": "stream",
     "text": [
      "          date  median_fare\n",
      "2   2024-03-03         14.2\n",
      "29  2024-03-30         14.2\n",
      "23  2024-03-24         14.2\n",
      "9   2024-03-10         14.2\n",
      "13  2024-03-14         14.2\n",
      "\n",
      "✅ Final Max median fare during March 2024: 14.2\n"
     ]
    },
    {
     "name": "stderr",
     "output_type": "stream",
     "text": [
      "\n"
     ]
    }
   ],
   "source": [
    "import pandas as pd\n",
    "from evidently.report import Report\n",
    "from evidently.metrics import ColumnQuantileMetric\n",
    "from tqdm import tqdm\n",
    "\n",
    "# Load data\n",
    "df = pd.read_parquet(\"data/green_tripdata_2024-03.parquet\")\n",
    "\n",
    "# Convert pickup datetime\n",
    "df['lpep_pickup_datetime'] = pd.to_datetime(df['lpep_pickup_datetime'])\n",
    "\n",
    "# ✅ Filter to March 2024 only\n",
    "df = df[(df['lpep_pickup_datetime'] >= '2024-03-01') & (df['lpep_pickup_datetime'] < '2024-04-01')]\n",
    "\n",
    "# Clean up outliers\n",
    "df = df[\n",
    "    (df[\"fare_amount\"] > 0) & (df[\"fare_amount\"] < 200) &\n",
    "    (df[\"passenger_count\"] > 0) & (df[\"passenger_count\"] < 8)\n",
    "]\n",
    "\n",
    "# Extract date for grouping\n",
    "df['pickup_date'] = df['lpep_pickup_datetime'].dt.date\n",
    "\n",
    "# Compute daily 0.5 quantile\n",
    "daily_medians = []\n",
    "\n",
    "for day in tqdm(sorted(df['pickup_date'].unique())):\n",
    "    df_day = df[df['pickup_date'] == day]\n",
    "    \n",
    "    report = Report(metrics=[\n",
    "        ColumnQuantileMetric(column_name=\"fare_amount\", quantile=0.5)\n",
    "    ])\n",
    "    report.run(reference_data=df_day, current_data=df_day)\n",
    "    \n",
    "    result = report.as_dict()\n",
    "    quantile_val = result['metrics'][0]['result']['current']['value']\n",
    "    daily_medians.append((day, quantile_val))\n",
    "\n",
    "# Results\n",
    "daily_df = pd.DataFrame(daily_medians, columns=[\"date\", \"median_fare\"])\n",
    "max_median = daily_df[\"median_fare\"].max()\n",
    "\n",
    "print(daily_df.sort_values(by=\"median_fare\", ascending=False).head())  # Optional for debug\n",
    "print(f\"\\n✅ Final Max median fare during March 2024: {max_median}\")\n"
   ]
  }
 ],
 "metadata": {
  "kernelspec": {
   "display_name": ".venv",
   "language": "python",
   "name": "python3"
  },
  "language_info": {
   "codemirror_mode": {
    "name": "ipython",
    "version": 3
   },
   "file_extension": ".py",
   "mimetype": "text/x-python",
   "name": "python",
   "nbconvert_exporter": "python",
   "pygments_lexer": "ipython3",
   "version": "3.10.0"
  }
 },
 "nbformat": 4,
 "nbformat_minor": 5
}
