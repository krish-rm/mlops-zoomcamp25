{
 "cells": [
  {
   "cell_type": "code",
   "execution_count": 4,
   "id": "b9420bc8",
   "metadata": {},
   "outputs": [
    {
     "name": "stdout",
     "output_type": "stream",
     "text": [
      "2.22.0\n"
     ]
    }
   ],
   "source": [
    "import mlflow\n",
    "\n",
    "print(mlflow.__version__)\n"
   ]
  },
  {
   "cell_type": "code",
   "execution_count": 1,
   "id": "8231a9e1",
   "metadata": {},
   "outputs": [],
   "source": [
    "!python preprocess_data.py --raw_data_path data --dest_path output\n"
   ]
  },
  {
   "cell_type": "code",
   "execution_count": 3,
   "id": "ad685d37",
   "metadata": {},
   "outputs": [
    {
     "name": "stdout",
     "output_type": "stream",
     "text": [
      "Files in output folder: ['dv.pkl', 'test.pkl', 'train.pkl', 'val.pkl']\n",
      "Number of files: 4\n"
     ]
    }
   ],
   "source": [
    "import os\n",
    "\n",
    "output_files = os.listdir(\"output\")\n",
    "print(\"Files in output folder:\", output_files)\n",
    "print(\"Number of files:\", len(output_files))\n",
    "\n"
   ]
  },
  {
   "cell_type": "code",
   "execution_count": 4,
   "id": "fd85e64f",
   "metadata": {},
   "outputs": [
    {
     "name": "stdout",
     "output_type": "stream",
     "text": [
      "DictVectorizer feature names:\n",
      "['PU_DO=100_232', 'PU_DO=102_10', 'PU_DO=102_102', 'PU_DO=102_112', 'PU_DO=102_130']\n",
      "Total number of features: 5702\n"
     ]
    }
   ],
   "source": [
    "import pickle\n",
    "\n",
    "# Load the DictVectorizer\n",
    "with open(\"output/dv.pkl\", \"rb\") as f_in:\n",
    "    dv = pickle.load(f_in)\n",
    "\n",
    "print(\"DictVectorizer feature names:\")\n",
    "print(dv.feature_names_[:5])  # Show a few feature names\n",
    "print(\"Total number of features:\", len(dv.feature_names_))\n"
   ]
  },
  {
   "cell_type": "code",
   "execution_count": 5,
   "id": "846b0325",
   "metadata": {},
   "outputs": [
    {
     "name": "stdout",
     "output_type": "stream",
     "text": [
      "X_train shape: (65946, 5702)\n",
      "y_train shape: (65946,)\n"
     ]
    }
   ],
   "source": [
    "# Load train.pkl\n",
    "with open(\"output/train.pkl\", \"rb\") as f_in:\n",
    "    X_train, y_train = pickle.load(f_in)\n",
    "\n",
    "print(\"X_train shape:\", X_train.shape)\n",
    "print(\"y_train shape:\", y_train.shape)\n"
   ]
  },
  {
   "cell_type": "code",
   "execution_count": 6,
   "id": "da3be6de",
   "metadata": {},
   "outputs": [
    {
     "name": "stdout",
     "output_type": "stream",
     "text": [
      "X_val shape: (62574, 5702)\n",
      "y_val shape: (62574,)\n"
     ]
    }
   ],
   "source": [
    "# Load val.pkl\n",
    "with open(\"output/val.pkl\", \"rb\") as f_in:\n",
    "    X_val, y_val = pickle.load(f_in)\n",
    "\n",
    "print(\"X_val shape:\", X_val.shape)\n",
    "print(\"y_val shape:\", y_val.shape)\n"
   ]
  },
  {
   "cell_type": "code",
   "execution_count": 7,
   "id": "c662a187",
   "metadata": {},
   "outputs": [
    {
     "name": "stdout",
     "output_type": "stream",
     "text": [
      "X_test shape: (69392, 5702)\n",
      "y_test shape: (69392,)\n"
     ]
    }
   ],
   "source": [
    "# Load test.pkl\n",
    "with open(\"output/test.pkl\", \"rb\") as f_in:\n",
    "    X_test, y_test = pickle.load(f_in)\n",
    "\n",
    "print(\"X_test shape:\", X_test.shape)\n",
    "print(\"y_test shape:\", y_test.shape)\n"
   ]
  }
 ],
 "metadata": {
  "kernelspec": {
   "display_name": ".venv",
   "language": "python",
   "name": "python3"
  },
  "language_info": {
   "codemirror_mode": {
    "name": "ipython",
    "version": 3
   },
   "file_extension": ".py",
   "mimetype": "text/x-python",
   "name": "python",
   "nbconvert_exporter": "python",
   "pygments_lexer": "ipython3",
   "version": "3.10.0"
  }
 },
 "nbformat": 4,
 "nbformat_minor": 5
}
